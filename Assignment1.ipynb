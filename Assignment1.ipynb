{
  "metadata": {
    "language_info": {
      "codemirror_mode": {
        "name": "python",
        "version": 3
      },
      "file_extension": ".py",
      "mimetype": "text/x-python",
      "name": "python",
      "nbconvert_exporter": "python",
      "pygments_lexer": "ipython3",
      "version": "3.8"
    },
    "kernelspec": {
      "name": "python",
      "display_name": "Python (Pyodide)",
      "language": "python"
    }
  },
  "nbformat_minor": 4,
  "nbformat": 4,
  "cells": [
    {
      "cell_type": "code",
      "source": "'''\nA1:- For loop is used to execute code for a predifined amount of steps\n     syntax:-\n     for i in range(10):\n         print(i)\n\n     \n     While loop is used to run a statement until it is true .\n     syntax:-\n     x = 0\n     while(x<10)\n         do something\n         x = x + 1\n    It will run until the statemnt x is less than 10\n     \n     \n'''",
      "metadata": {
        "trusted": true
      },
      "execution_count": 1,
      "outputs": [
        {
          "execution_count": 1,
          "output_type": "execute_result",
          "data": {
            "text/plain": "'\\nA1:- For loop is used to execute code for a predifined amount of steps\\n     syntax:-\\n     for i in range(10):\\n         print(i)\\n\\n     \\n     While loop is used to run a statement until it is true .\\n     syntax:-\\n     x = 0\\n     while(x<10)\\n         do something\\n         x = x + 1\\n    It will run until the statemnt x is less than 10\\n     \\n     \\n'"
          },
          "metadata": {}
        }
      ]
    },
    {
      "cell_type": "code",
      "source": "#A2:- Using for loop\nsum = 0\nfor i in range(1,11):\n    sum = sum + i\nprint(sum)\n#Using while loop\nsum2 = 0\ni = 1\nwhile(i<=10):\n    sum2 = sum2 + i\n    i = i + 1\nprint(sum2)\n",
      "metadata": {
        "trusted": true
      },
      "execution_count": null,
      "outputs": []
    },
    {
      "cell_type": "code",
      "source": "#A3:-\nbill = int(input('Enter your bill'))\namount = 0\nif(bill <= 100):\n    amount = bill * 4.5\n    print(f'Your total electricity bill should be {amount}')\nelif(bill>100 and bill <=200):\n    charge_till_100 = 450\n    amount = charge_till_100 + ((bill - 100)*6)\n    print(f'Your total electricity bill should be {amount}')\nelif(bill>200 and bill <=300):\n    charge_till_200 = 600 + 450\n    amount = charge_till_200 + ((bill - 200)*10)\n    print(f'Your total electricity bill should be {amount}')\nelse:\n    charge_till_300 = 600+450+ 1000\n    amount = charge_till_300 + ((bill - 300)*20)\n    print(f'Your total electricity bill should be {amount}')",
      "metadata": {
        "trusted": true
      },
      "execution_count": null,
      "outputs": []
    },
    {
      "cell_type": "code",
      "source": "#A4:-\n#using for loop\nl1 = []\nfor i in range(1,101):\n    cube = i * i * i\n    if(cube%4 == 0 or cube %5 == 0):\n        l1.append(cube)\nprint(l1)\n#using while loop\ncounter = 1\nl2 = []\nwhile(counter <= 100):\n    cube2 = counter * counter * counter\n    if(cube2 % 4 == 0 or cube2 % 5 == 0):\n        l2.append(cube2)\n    counter = counter + 1\nprint(l2)",
      "metadata": {
        "trusted": true
      },
      "execution_count": null,
      "outputs": []
    },
    {
      "cell_type": "code",
      "source": "#A5:-\nstr1 = \"I want to become a data scientist\"\nfor i in str1:\n    if(i == 'a' or i =='e' or i == 'i' or i == 'o' or i == 'u'):\n        continue\n    print(i)",
      "metadata": {},
      "execution_count": null,
      "outputs": []
    }
  ]
}